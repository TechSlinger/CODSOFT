{
  "nbformat": 4,
  "nbformat_minor": 0,
  "metadata": {
    "colab": {
      "provenance": [],
      "authorship_tag": "ABX9TyNfyMAnyKb+wSgAvKKR/fl0",
      "include_colab_link": true
    },
    "kernelspec": {
      "name": "python3",
      "display_name": "Python 3"
    },
    "language_info": {
      "name": "python"
    }
  },
  "cells": [
    {
      "cell_type": "markdown",
      "metadata": {
        "id": "view-in-github",
        "colab_type": "text"
      },
      "source": [
        "<a href=\"https://colab.research.google.com/github/TechSlinger/CODSOFT/blob/master/Task2_MOVIE_RATING_PREDICTION.ipynb\" target=\"_parent\"><img src=\"https://colab.research.google.com/assets/colab-badge.svg\" alt=\"Open In Colab\"/></a>"
      ]
    },
    {
      "cell_type": "code",
      "source": [
        "import pandas as pd\n",
        "import numpy as np\n",
        "from sklearn.model_selection import train_test_split\n",
        "from sklearn.preprocessing import OneHotEncoder\n",
        "from sklearn.ensemble import RandomForestRegressor\n",
        "from sklearn.metrics import mean_absolute_error, mean_squared_error, r2_score\n",
        "\n",
        "# Step 1: Load the data\n",
        "data = pd.read_csv(\"IMDb Movies India.csv\", encoding='latin1')\n",
        "# Step 2: Explore the data\n",
        "\n",
        "# Step 3: Preprocess the data\n",
        "# Handle missing values (example: dropping rows with missing ratings)\n",
        "data = data.dropna(subset=['Rating'])\n",
        "\n",
        "# Encode categorical features\n",
        "categorical_features = ['Name', 'Genre', 'Director', 'Actor 1', 'Actor 2', 'Actor 3']\n",
        "encoder = OneHotEncoder(sparse=False, handle_unknown='ignore')\n",
        "encoded_features = pd.DataFrame(encoder.fit_transform(data[categorical_features]))\n",
        "# Rename the encoded columns\n",
        "encoded_features.columns = encoder.get_feature_names_out(categorical_features)\n",
        "\n",
        "# Concatenate the encoded features with the original dataframe\n",
        "data = pd.concat([data.reset_index(drop=True), encoded_features.reset_index(drop=True)], axis=1)\n",
        "data = data.drop(columns=categorical_features)\n",
        "#Preprocess the Year feature\n",
        "# Step 1: Remove parentheses and convert to numeric\n",
        "data['Year'] = data['Year'].str.replace(r'\\(|\\)', '', regex=True)  # Remove parentheses\n",
        "data['Year'] = pd.to_numeric(data['Year'], errors='coerce')  # Convert to numeric, set errors to NaN\n",
        "\n",
        "# Step 2: Handle missing values\n",
        "data = data.dropna(subset=['Year'])  # Drop rows where 'Year' is NaN\n",
        "#Preprocess the Duration feature\n",
        "# Step 1: Remove parentheses and convert to numeric\n",
        "data['Duration'] = data['Duration'].str.replace(r'min', '', regex=True)  # Remove parentheses\n",
        "data['Votes'] = data['Votes'].astype(str).str.replace(r'[^\\d]', '', regex=True)\n",
        "data['Duration'] = pd.to_numeric(data['Duration'], errors='coerce')  # Convert to numeric, set errors to NaN\n",
        "\n",
        "# Step 2: Handle missing values\n",
        "data = data.dropna(subset=['Duration'])  # Drop rows where 'Year' is NaN\n",
        "\n",
        "data = data.dropna(subset=['Votes'])\n",
        "\n",
        "# Step 4: Split the data into training and testing sets\n",
        "X = data.drop(columns=['Rating'])\n",
        "y = data['Rating']\n",
        "X_train, X_test, y_train, y_test = train_test_split(X, y, test_size=0.2, random_state=42)\n",
        "\n",
        "\n",
        "\n",
        "# Step 5: Create and train the RandomForestRegressor model\n",
        "model = RandomForestRegressor(n_estimators=100, random_state=42)\n",
        "model.fit(X_train, y_train)\n",
        "\n",
        "\n",
        "# Step 6: Evaluate the model\n",
        "y_pred = model.predict(X_test)\n",
        "mae = mean_absolute_error(y_test, y_pred)\n",
        "mse = mean_squared_error(y_test, y_pred)\n",
        "rmse = np.sqrt(mse)\n",
        "r2 = r2_score(y_test, y_pred)\n",
        "\n",
        "print(f'Mean Absolute Error (MAE): {mae}')\n",
        "print(f'Mean Squared Error (MSE): {mse}')\n",
        "print(f'Root Mean Squared Error (RMSE): {rmse}')\n",
        "print(f'R-squared (R²): {r2}')\n"
      ],
      "metadata": {
        "colab": {
          "base_uri": "https://localhost:8080/"
        },
        "id": "OUTGi_GSYDrt",
        "outputId": "e82387de-b11c-42c9-92ad-e9f91f0a3ebf"
      },
      "execution_count": null,
      "outputs": [
        {
          "output_type": "stream",
          "name": "stderr",
          "text": [
            "/usr/local/lib/python3.10/dist-packages/sklearn/preprocessing/_encoders.py:975: FutureWarning: `sparse` was renamed to `sparse_output` in version 1.2 and will be removed in 1.4. `sparse_output` is ignored unless you leave `sparse` to its default value.\n",
            "  warnings.warn(\n"
          ]
        },
        {
          "output_type": "stream",
          "name": "stdout",
          "text": [
            "Mean Absolute Error (MAE): 0.8302792485055509\n",
            "Mean Squared Error (MSE): 1.2803455311699405\n",
            "Root Mean Squared Error (RMSE): 1.1315235442402163\n",
            "R-squared (R²): 0.3118332655041214\n"
          ]
        }
      ]
    },
    {
      "cell_type": "code",
      "source": [
        "from sklearn.tree import DecisionTreeRegressor\n",
        "from sklearn.ensemble import RandomForestRegressor, GradientBoostingRegressor\n",
        "from sklearn.svm import SVR\n",
        "\n",
        "# Define a function to evaluate models\n",
        "def evaluate_model(model, X_train, X_test, y_train, y_test):\n",
        "    model.fit(X_train, y_train)\n",
        "    y_pred = model.predict(X_test)\n",
        "    mae = mean_absolute_error(y_test, y_pred)\n",
        "    mse = mean_squared_error(y_test, y_pred)\n",
        "    rmse = np.sqrt(mse)\n",
        "    r2 = r2_score(y_test, y_pred)\n",
        "    print(f'{model.__class__.__name__}:')\n",
        "    print(f'Mean Absolute Error (MAE): {mae}')\n",
        "    print(f'Mean Squared Error (MSE): {mse}')\n",
        "    print(f'Root Mean Squared Error (RMSE): {rmse}')\n",
        "    print(f'R-squared (R²): {r2}\\n')\n",
        "\n",
        "# Initialize models\n",
        "models = [\n",
        "    DecisionTreeRegressor(random_state=42),\n",
        "    RandomForestRegressor(random_state=42),\n",
        "    GradientBoostingRegressor(random_state=42),\n",
        "    SVR()\n",
        "]\n",
        "\n",
        "# Evaluate each model\n",
        "for model in models:\n",
        "    evaluate_model(model, X_train, X_test, y_train, y_test)\n"
      ],
      "metadata": {
        "colab": {
          "base_uri": "https://localhost:8080/"
        },
        "id": "VGcrGFai68b3",
        "outputId": "d160336c-7339-4961-b974-a16f7f6e5893"
      },
      "execution_count": null,
      "outputs": [
        {
          "output_type": "stream",
          "name": "stdout",
          "text": [
            "DecisionTreeRegressor:\n",
            "Mean Absolute Error (MAE): 1.0532877882152007\n",
            "Mean Squared Error (MSE): 2.0569598633646455\n",
            "Root Mean Squared Error (RMSE): 1.4342105366244684\n",
            "R-squared (R²): -0.10558542026328421\n",
            "\n",
            "RandomForestRegressor:\n",
            "Mean Absolute Error (MAE): 0.8302792485055509\n",
            "Mean Squared Error (MSE): 1.2803455311699405\n",
            "Root Mean Squared Error (RMSE): 1.1315235442402163\n",
            "R-squared (R²): 0.3118332655041214\n",
            "\n",
            "GradientBoostingRegressor:\n",
            "Mean Absolute Error (MAE): 0.8689243479183224\n",
            "Mean Squared Error (MSE): 1.2965709806368813\n",
            "Root Mean Squared Error (RMSE): 1.1386707077276035\n",
            "R-squared (R²): 0.303112327051523\n",
            "\n",
            "SVR:\n",
            "Mean Absolute Error (MAE): 1.0656315874502322\n",
            "Mean Squared Error (MSE): 1.8510767500214784\n",
            "Root Mean Squared Error (RMSE): 1.360542814475707\n",
            "R-squared (R²): 0.0050736997539095885\n",
            "\n"
          ]
        }
      ]
    }
  ]
}